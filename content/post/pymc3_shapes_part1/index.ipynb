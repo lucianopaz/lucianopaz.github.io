{
 "cells": [
  {
   "cell_type": "raw",
   "metadata": {},
   "source": [
    "---\n",
    "title: PyMC3 shape handling\n",
    "author: lucianopaz\n",
    "date: 2019-08-19\n",
    "caption: \"\"\n",
    "summary: \"\"\n",
    "tags:\n",
    "- pymc\n",
    "- python\n",
    "- ppl\n",
    "categories:\n",
    "- ppl\n",
    "featured: true\n",
    "draft: false\n",
    "\n",
    "# Featured image\n",
    "# To use, add an image named `featured.jpg/png` to your page's folder.\n",
    "# Placement options: 1 = Full column width, 2 = Out-set, 3 = Screen-width\n",
    "# Focal point options: Smart, Center, TopLeft, Top, TopRight, Left, Right, BottomLeft, Bottom, BottomRight\n",
    "image:\n",
    "  placement: 1\n",
    "  caption: \"\\\"_Lasciate ogni speranza, voi che entrate qui_ ”</br>Allegedly Dante's words when he wrote about the many dimensions of shape hell\"\n",
    "  focal_point: \"\"\n",
    "  preview_only: false\n",
    "\n",
    "# Projects (optional).\n",
    "#   Associate this post with one or more of your projects.\n",
    "#   Simply enter your project's folder or file name without extension.\n",
    "#   E.g. `projects = [\"internal-project\"]` references `content/project/deep-learning/index.md`.\n",
    "#   Otherwise, set `projects = []`.\n",
    "projects: [\"pymc\"]\n",
    "\n",
    "# Set captions for image gallery.\n",
    "# gallery_item:\n",
    "#- album: gallery\n",
    "#  caption: Default\n",
    "#  image: theme-default.png\n",
    "---"
   ]
  },
  {
   "cell_type": "markdown",
   "metadata": {},
   "source": [
    "This post is intended to explain:\n",
    "\n",
    "* What the `shape` attribute of a pymc3 RV is.\n",
    "* What's the difference between an RV's and its associated distribution's `shape`.\n",
    "* How does a distribution's `shape` determine the `shape` of its `logp` output.\n",
    "* The potential trouble this can bring with samples drawn from the prior or from the posterior predictive distributions.\n",
    "* The many implicit semantically relevant shapes associated with pymc3 models. We will follow the naming convention used by tensorflow probability and talk about sample, batch and event shapes.\n",
    "* I plan to write a separate post with some best practices to avoid falling into the many circles of shape hell (or at least be able to maneuver inside them)."
   ]
  },
  {
   "cell_type": "markdown",
   "metadata": {},
   "source": [
    "## The origin of all ~~evil~~ ambiguity\n",
    "\n",
    "Before going into the depths of PyMC3, we'll take a detour around `numpy`'s random number generators to introduce the many semantically relevant shapes involved with random variables, samples drawn from probability distributions and how these affect the computed probability densities.\n",
    "\n",
    "`numpy` has no concept of a random variable class, it provides some random number generators from which you can draw some samples that follow a particular probability distribution (I'm purposely not mentioning `scipy.stats` here). Lets draw some numbers using `numpy.random.normal`:"
   ]
  },
  {
   "cell_type": "code",
   "execution_count": 1,
   "metadata": {},
   "outputs": [],
   "source": [
    "import numpy as np\n",
    "\n",
    "np.random.seed(12345)"
   ]
  },
  {
   "cell_type": "code",
   "execution_count": 2,
   "metadata": {},
   "outputs": [
    {
     "name": "stdout",
     "output_type": "stream",
     "text": [
      "Sample's value = -0.20470765948471295\n",
      "Sample's shape = ()\n"
     ]
    }
   ],
   "source": [
    "# Lets make a call using all the defaults\n",
    "x = np.random.normal()\n",
    "print(\"Sample's value = {}\\nSample's shape = {}\".format(x, np.array(x).shape))"
   ]
  },
  {
   "cell_type": "markdown",
   "metadata": {},
   "source": [
    "You can see that if we call the random number generator with empty arguments we get a single number, or more technically a scalar. We actually have to make a zero-sized array by wrapping the result in `np.array(x)` to be able to get a `shape` attribute out of it."
   ]
  },
  {
   "cell_type": "markdown",
   "metadata": {},
   "source": [
    "Supplying the `size` argument we can control the number of draws we want to get. Well, we actually control the `shape` of the output array."
   ]
  },
  {
   "cell_type": "code",
   "execution_count": 3,
   "metadata": {},
   "outputs": [
    {
     "name": "stdout",
     "output_type": "stream",
     "text": [
      "Sample's value = [ 0.47894334 -0.51943872 -0.5557303   1.96578057  1.39340583  0.09290788\n",
      "  0.28174615  0.76902257  1.24643474  1.00718936]\n",
      "Sample's shape = (10,)\n"
     ]
    }
   ],
   "source": [
    "# Lets make a call asking for a particular size\n",
    "x = np.random.normal(size=10)\n",
    "print(\"Sample's value = {}\\nSample's shape = {}\".format(x, x.shape))"
   ]
  },
  {
   "cell_type": "code",
   "execution_count": 4,
   "metadata": {},
   "outputs": [
    {
     "data": {
      "text/plain": [
       "(10, 4, 2)"
      ]
     },
     "execution_count": 4,
     "metadata": {},
     "output_type": "execute_result"
    }
   ],
   "source": [
    "# Lets make a call asking for a tuple size\n",
    "x = np.random.normal(size=(10, 4, 2))\n",
    "x.shape"
   ]
  },
  {
   "cell_type": "markdown",
   "metadata": {},
   "source": [
    "Ok, so we control the number of draws we want to make using the `size` argument. The result of a call to the random number generator can return an `ndarray` or a scalar. **But what happens if we change the distribution parameters, `loc` and `scale`?**"
   ]
  },
  {
   "cell_type": "code",
   "execution_count": 5,
   "metadata": {},
   "outputs": [
    {
     "data": {
      "text/plain": [
       "(10,)"
      ]
     },
     "execution_count": 5,
     "metadata": {},
     "output_type": "execute_result"
    }
   ],
   "source": [
    "# Lets make a call supplying an array of locs\n",
    "x = np.random.normal(loc=np.arange(10))\n",
    "x.shape"
   ]
  },
  {
   "cell_type": "markdown",
   "metadata": {},
   "source": [
    "We now also get an `ndarray` instead of a scalar! We get as many numbers as elements in the supplied `loc` distribution parameter. **So what does `size` do now?**"
   ]
  },
  {
   "cell_type": "code",
   "execution_count": 6,
   "metadata": {},
   "outputs": [
    {
     "data": {
      "text/plain": [
       "(10,)"
      ]
     },
     "execution_count": 6,
     "metadata": {},
     "output_type": "execute_result"
    }
   ],
   "source": [
    "# Lets make a call supplying an array of locs and asking for a given size\n",
    "x = np.random.normal(loc=np.arange(10), size=10)\n",
    "x.shape"
   ]
  },
  {
   "cell_type": "markdown",
   "metadata": {},
   "source": [
    "Wait, so what did `size` do here? **The answer is essentially nothing!**\n",
    "\n",
    "#### Distribution's shape\n",
    "\n",
    "What is actually happening is that the distribution parameters, like `loc` and `scale` of a `normal`, implicitly define what we could call the **distribution's shape** (when we get to multivariate distributions we will split this into `batch_shape` and `event_shape`s as in tensorflow probability, but for now lets stick to `distribution_shape`). The random number generator draws samples using the distribution's implicit shape, but also vectorizes the random calls over the extra dimensions provided in `size`. If the distribution cannot _broadcast_ with the supplied `size`, then an error is raised (it's actually more pedantic than simple broadcasting)."
   ]
  },
  {
   "cell_type": "code",
   "execution_count": 7,
   "metadata": {},
   "outputs": [
    {
     "data": {
      "text/plain": [
       "(300, 10)"
      ]
     },
     "execution_count": 7,
     "metadata": {},
     "output_type": "execute_result"
    }
   ],
   "source": [
    "# size and loc broadcast so the random draws are vectorized over the extra dimensions of size\n",
    "x = np.random.normal(loc=np.arange(10), size=(300, 10))\n",
    "x.shape"
   ]
  },
  {
   "cell_type": "code",
   "execution_count": 8,
   "metadata": {},
   "outputs": [
    {
     "data": {
      "text/plain": [
       "array([0.01963069, 0.95968487, 2.02679069, 2.99794185, 4.00357886,\n",
       "       4.98255339, 6.08488072, 6.895649  , 8.07455776, 9.02202938])"
      ]
     },
     "execution_count": 8,
     "metadata": {},
     "output_type": "execute_result"
    }
   ],
   "source": [
    "# Each column has a different loc\n",
    "np.mean(x, axis=0)"
   ]
  },
  {
   "cell_type": "code",
   "execution_count": 9,
   "metadata": {},
   "outputs": [
    {
     "ename": "ValueError",
     "evalue": "shape mismatch: objects cannot be broadcast to a single shape",
     "output_type": "error",
     "traceback": [
      "\u001b[0;31m---------------------------------------------------------------------------\u001b[0m",
      "\u001b[0;31mValueError\u001b[0m                                Traceback (most recent call last)",
      "\u001b[0;32m<ipython-input-9-6ec74377ffcd>\u001b[0m in \u001b[0;36m<module>\u001b[0;34m()\u001b[0m\n\u001b[1;32m      1\u001b[0m \u001b[0;31m# size does not broadcast with loc, and an error is raised\u001b[0m\u001b[0;34m\u001b[0m\u001b[0;34m\u001b[0m\u001b[0;34m\u001b[0m\u001b[0m\n\u001b[0;32m----> 2\u001b[0;31m \u001b[0mx\u001b[0m \u001b[0;34m=\u001b[0m \u001b[0mnp\u001b[0m\u001b[0;34m.\u001b[0m\u001b[0mrandom\u001b[0m\u001b[0;34m.\u001b[0m\u001b[0mnormal\u001b[0m\u001b[0;34m(\u001b[0m\u001b[0mloc\u001b[0m\u001b[0;34m=\u001b[0m\u001b[0mnp\u001b[0m\u001b[0;34m.\u001b[0m\u001b[0marange\u001b[0m\u001b[0;34m(\u001b[0m\u001b[0;36m10\u001b[0m\u001b[0;34m)\u001b[0m\u001b[0;34m,\u001b[0m \u001b[0msize\u001b[0m\u001b[0;34m=\u001b[0m\u001b[0;36m3\u001b[0m\u001b[0;34m)\u001b[0m\u001b[0;34m\u001b[0m\u001b[0;34m\u001b[0m\u001b[0m\n\u001b[0m\u001b[1;32m      3\u001b[0m \u001b[0mx\u001b[0m\u001b[0;34m.\u001b[0m\u001b[0mshape\u001b[0m\u001b[0;34m\u001b[0m\u001b[0;34m\u001b[0m\u001b[0m\n",
      "\u001b[0;32mmtrand.pyx\u001b[0m in \u001b[0;36mmtrand.RandomState.normal\u001b[0;34m()\u001b[0m\n",
      "\u001b[0;32mmtrand.pyx\u001b[0m in \u001b[0;36mmtrand.cont2_array\u001b[0;34m()\u001b[0m\n",
      "\u001b[0;31mValueError\u001b[0m: shape mismatch: objects cannot be broadcast to a single shape"
     ]
    }
   ],
   "source": [
    "# size does not broadcast with loc, and an error is raised\n",
    "x = np.random.normal(loc=np.arange(10), size=3)\n",
    "x.shape"
   ]
  },
  {
   "cell_type": "code",
   "execution_count": 10,
   "metadata": {},
   "outputs": [
    {
     "data": {
      "text/plain": [
       "(10, 300)"
      ]
     },
     "execution_count": 10,
     "metadata": {},
     "output_type": "execute_result"
    }
   ],
   "source": [
    "# size and loc broadcast so the random draws are vectorized over the extra dimensions of size\n",
    "x = np.random.normal(loc=np.arange(10)[:, np.newaxis], size=(10, 300))\n",
    "x.shape"
   ]
  },
  {
   "cell_type": "code",
   "execution_count": 11,
   "metadata": {},
   "outputs": [
    {
     "data": {
      "text/plain": [
       "array([0.02937006, 0.98651717, 1.9862869 , 3.00312987, 4.017759  ,\n",
       "       4.92210904, 6.01890166, 7.0359308 , 7.98685293, 8.88494283])"
      ]
     },
     "execution_count": 11,
     "metadata": {},
     "output_type": "execute_result"
    }
   ],
   "source": [
    "# Each row has a different loc\n",
    "np.mean(x, axis=1)"
   ]
  },
  {
   "cell_type": "code",
   "execution_count": 12,
   "metadata": {},
   "outputs": [
    {
     "ename": "ValueError",
     "evalue": "size is not compatible with inputs",
     "output_type": "error",
     "traceback": [
      "\u001b[0;31m---------------------------------------------------------------------------\u001b[0m",
      "\u001b[0;31mValueError\u001b[0m                                Traceback (most recent call last)",
      "\u001b[0;32m<ipython-input-12-1b49ca5414a0>\u001b[0m in \u001b[0;36m<module>\u001b[0;34m()\u001b[0m\n\u001b[1;32m      1\u001b[0m \u001b[0;31m# size and loc broadcast but the non singleton dimensions in loc do not match\u001b[0m\u001b[0;34m\u001b[0m\u001b[0;34m\u001b[0m\u001b[0;34m\u001b[0m\u001b[0m\n\u001b[1;32m      2\u001b[0m \u001b[0;31m# with the correspoding size element so an error is raised\u001b[0m\u001b[0;34m\u001b[0m\u001b[0;34m\u001b[0m\u001b[0;34m\u001b[0m\u001b[0m\n\u001b[0;32m----> 3\u001b[0;31m \u001b[0mx\u001b[0m \u001b[0;34m=\u001b[0m \u001b[0mnp\u001b[0m\u001b[0;34m.\u001b[0m\u001b[0mrandom\u001b[0m\u001b[0;34m.\u001b[0m\u001b[0mnormal\u001b[0m\u001b[0;34m(\u001b[0m\u001b[0mloc\u001b[0m\u001b[0;34m=\u001b[0m\u001b[0mnp\u001b[0m\u001b[0;34m.\u001b[0m\u001b[0marange\u001b[0m\u001b[0;34m(\u001b[0m\u001b[0;36m10\u001b[0m\u001b[0;34m)\u001b[0m\u001b[0;34m[\u001b[0m\u001b[0;34m:\u001b[0m\u001b[0;34m,\u001b[0m \u001b[0mnp\u001b[0m\u001b[0;34m.\u001b[0m\u001b[0mnewaxis\u001b[0m\u001b[0;34m]\u001b[0m\u001b[0;34m,\u001b[0m \u001b[0msize\u001b[0m\u001b[0;34m=\u001b[0m\u001b[0;34m(\u001b[0m\u001b[0;36m1\u001b[0m\u001b[0;34m,\u001b[0m \u001b[0;36m300\u001b[0m\u001b[0;34m)\u001b[0m\u001b[0;34m)\u001b[0m\u001b[0;34m\u001b[0m\u001b[0;34m\u001b[0m\u001b[0m\n\u001b[0m\u001b[1;32m      4\u001b[0m \u001b[0mx\u001b[0m\u001b[0;34m.\u001b[0m\u001b[0mshape\u001b[0m\u001b[0;34m\u001b[0m\u001b[0;34m\u001b[0m\u001b[0m\n",
      "\u001b[0;32mmtrand.pyx\u001b[0m in \u001b[0;36mmtrand.RandomState.normal\u001b[0;34m()\u001b[0m\n",
      "\u001b[0;32mmtrand.pyx\u001b[0m in \u001b[0;36mmtrand.cont2_array\u001b[0;34m()\u001b[0m\n",
      "\u001b[0;31mValueError\u001b[0m: size is not compatible with inputs"
     ]
    }
   ],
   "source": [
    "# size and loc broadcast but the non singleton dimensions in loc do not match\n",
    "# with the correspoding size element so an error is raised\n",
    "x = np.random.normal(loc=np.arange(10)[:, np.newaxis], size=(1, 300))\n",
    "x.shape"
   ]
  },
  {
   "cell_type": "code",
   "execution_count": 13,
   "metadata": {},
   "outputs": [
    {
     "data": {
      "text/plain": [
       "(3000, 3, 4)"
      ]
     },
     "execution_count": 13,
     "metadata": {},
     "output_type": "execute_result"
    }
   ],
   "source": [
    "# The distribution's implictly defined shape depends on how the parameters\n",
    "# loc and scale broadcast with each other\n",
    "x = np.random.normal(\n",
    "    loc=np.arange(3).reshape((3, 1)),\n",
    "    scale=np.arange(4) + 1,\n",
    "    size=(3000, 3, 4)\n",
    ")\n",
    "x.shape"
   ]
  },
  {
   "cell_type": "code",
   "execution_count": 14,
   "metadata": {},
   "outputs": [
    {
     "data": {
      "text/plain": [
       "array([[ 0.0102261 , -0.00975594, -0.0082977 ,  0.11634068],\n",
       "       [ 0.9840894 ,  0.94276502,  0.93028859,  0.968283  ],\n",
       "       [ 2.00062043,  1.99421095,  2.11480227,  1.83806223]])"
      ]
     },
     "execution_count": 14,
     "metadata": {},
     "output_type": "execute_result"
    }
   ],
   "source": [
    "# The second axis has different means and the last axis has different standard deviations\n",
    "np.mean(x, axis=0)"
   ]
  },
  {
   "cell_type": "code",
   "execution_count": 15,
   "metadata": {},
   "outputs": [
    {
     "data": {
      "text/plain": [
       "array([[0.98598852, 2.02771629, 2.98777904, 3.94358108],\n",
       "       [1.01194307, 2.00820371, 3.0372083 , 3.94933656],\n",
       "       [1.00660898, 2.02210172, 3.06703822, 3.98733117]])"
      ]
     },
     "execution_count": 15,
     "metadata": {},
     "output_type": "execute_result"
    }
   ],
   "source": [
    "np.std(x, axis=0)"
   ]
  },
  {
   "cell_type": "markdown",
   "metadata": {},
   "source": [
    "#### Pointers that we need to understand so far:\n",
    "\n",
    "* Distributions have parameters. These parameters can implicitly determine the distribution's `shape`.\n",
    "* Samples drawn from a distribution are `ndarray`s that have some `shape` which is controlled with the `size` of the draw and the distribution's implicit `shape`.\n",
    "* Any operation that is performed on a sample drawn from a probability distribution does not actually interact with the distribution's `shape`, but with something that is determined by `size` along with the distribution's `shape`.\n",
    "* **The word `shape` is shamelessly used all over the place!** This is maybe the prime source of confusion in all things `shape` related.\n",
    "\n",
    "---"
   ]
  },
  {
   "cell_type": "markdown",
   "metadata": {},
   "source": [
    "### Multivariate distributions\n",
    "\n",
    "Up until now we only dealt with the normal distribution's random number generator. This is a **scalar** distribution. What this means is that a single sample drawn from a scalar distribution is also a scalar. On the other hand, **multivariate** distributions, such as the [Multinomial](https://en.wikipedia.org/wiki/Multinomial_distribution), [Multivariate Normal](https://en.wikipedia.org/wiki/Multivariate_normal_distribution) and [Wishart](https://en.wikipedia.org/wiki/Wishart_distribution), amongst others, yield vectors or higher ranked tensors as their single samples. To make this more precise, we will to refer to a single sample yielded by a single distribution as an **event**, and its shape will be called the **`event_shape`** (we call them events because we follow [tensorflow probability's naming convention](https://colab.research.google.com/github/tensorflow/probability/blob/master/tensorflow_probability/examples/jupyter_notebooks/Understanding_TensorFlow_Distributions_Shapes.ipynb) for shapes).\n",
    "\n",
    "* Scalar distributions have an `event_shape == ()`.\n",
    "* Multivariate distributions have non empty `event_shape`s.\n",
    "\n",
    "**But what happened when we passed a `loc` vector to the normal distribution?** Did we somehow make a multivariate distribution implicitly? The answer is **no**, we did not make a multivariate distribution, we made a **batch of many scalar distribution**. If you're confused, don't worry. The difference between a batch and a multivariate distribution is not clear by just looking at the shapes of samples drawn from them. For example, if we have a batch of two scalar normal distributions, and compare it to a bivariate normal distribution, both have the **same distribution shape, `(2,)`**. The difference will only become clear when we look at how the distribution's `logp` is computed. To do this, we'll rely on `scipy.stats` which provides a uniform API for many probability distributions and there `logpdf` methods."
   ]
  },
  {
   "cell_type": "code",
   "execution_count": 16,
   "metadata": {},
   "outputs": [
    {
     "name": "stdout",
     "output_type": "stream",
     "text": [
      "Batch of normals logp shape    = (2,)\n",
      "Multivariate normal logp shape = ()\n",
      "Batch of normals total logp    = -1.8378770664093453\n",
      "Multivariate normal total logp = -1.8378770664093453\n"
     ]
    }
   ],
   "source": [
    "from scipy import stats\n",
    "\n",
    "loc = np.arange(2)\n",
    "scale = np.ones(2)\n",
    "observed = np.arange(2)\n",
    "\n",
    "batch_logp = stats.norm.logpdf(observed, loc, scale)\n",
    "event_logp = stats.multivariate_normal.logpdf(observed, loc, scale)\n",
    "print(\"Batch of normals logp shape    = {}\".format(batch_logp.shape))\n",
    "print(\"Multivariate normal logp shape = {}\".format(event_logp.shape))\n",
    "print(\"Batch of normals total logp    = {}\".format(np.sum(batch_logp)))\n",
    "print(\"Multivariate normal total logp = {}\".format(np.sum(event_logp)))"
   ]
  },
  {
   "cell_type": "markdown",
   "metadata": {},
   "source": [
    "The distribution's `logp` measures the probability density (or mass for discrete distributions) that a sample was drawn from it. For the batch of normals, each element in the batch shape corresponds to an independent observation that should be measured according to an independent distribution in the batch. For this reason, we get `(2,)` numbers returned by the batch of gaussian distributions. On the other hand, the bivariate gaussian has `event_shape == (2,)`. The entire axis of the `event_shape` is consumed with the `logp` calculation.\n",
    "\n",
    "Generally, it is possible to write a batch of multivariate distributions. The resulting distribution shape is the combination of the batch and event shapes."
   ]
  },
  {
   "cell_type": "markdown",
   "metadata": {},
   "source": [
    "#### As a final summary on the shape semantics:\n",
    "\n",
    "* The `event_shape` is the shape of a single draw from the unbatched distribution. For scalar distributions, this is an empty tuple `()`.\n",
    "* The `batch_shape` describes the shape of a draw from a batch of many distributions (like what we did with the normal draws when we supplied many `loc` and `scale`s).\n",
    "* The `sample_shape` describes the shape of the independent, identically distributed (IID) draws made from a distribution or batch of distributions.\n",
    "* A distribution's shape is made up by a batch shape and an event shape: `distribution_shape == batch_shape + event_shape`.\n",
    "* When you draw random samples from a distribution, the resulting array has the following shape: `sample_shape + batch_shape + event_shape`\n",
    "* When you compute the `logp` of an observed sample, the event part of the shape is consumed and the output's shape will be `sample_shape + batch_shape`.\n",
    "\n",
    "The three shape related concepts are a bit complicated to grasp so I recommend that you read [Eric Ma's very nice explanation on them](https://ericmjl.github.io/blog/2019/5/29/reasoning-about-shapes-and-probability-distributions/) or just look at [TFP's colab on them](https://colab.research.google.com/github/tensorflow/probability/blob/master/tensorflow_probability/examples/jupyter_notebooks/Understanding_TensorFlow_Distributions_Shapes.ipynb).\n",
    "\n",
    "---"
   ]
  },
  {
   "cell_type": "markdown",
   "metadata": {},
   "source": [
    "## Shapes in PyMC3\n",
    "\n",
    "[PyMC3](https://docs.pymc.io/) is intended to be a user friendly modeling package in python. It aims to make probabilistic programming easy by providing an intuitive syntax to describe data generative processes and out-of-the-box Markov Chain Monte Carlo (MCMC) methods to make inferences from observed data. **It is designed with inference in mind.** It uses `theano` as its computational backend to be able to express mathematical operations on random variables symbolically. pymc3's design has lead to a lot of ambiguity on the what `shape` actually means, and how it affects sampling under different circumstances. The main reasons for the `shape` ambiguity in pymc3 are:\n",
    "\n",
    "1. The three shape concepts (sample, batch and event shapes) are never explicitly disambiguated in the `Distribution` nor in the `RV` classes.\n",
    "2. There is no distinction between batch and event shapes, users can only set the distribution's shape, which is an implicit combination of both.\n",
    "3. We deal with `theano.tensor` that represent mathematical operations over random variates. These operations hide most of the semantical batch and event shapes under a single distribution shape in the best case, and as a symbolic shape that is unknown until run time in the worst case.\n",
    "4. The mathematical operations may work well for the model definition when one only needs to `pm.sample`, but might run into shape problems when running `pm.sample_prior_predictive` and `pm.sample_posterior_predictive`.\n",
    "5. Model `logp` reduces the random variable's `logp` outputs using `theano.tensor.sum` so the sample-batch shape information is lost for sampling.\n",
    "6. The `shape` of `ObservedRV`s is partly set by the `observed` argument, but this is not equivalent to the distribution's `shape`, leading to an ambiguous and confusing situation for users when they define their models, and potential errors when using `sample_prior_predictive`.\n",
    "7. The distribution's batch and event shape is not inferred from the supplied parameters, one must always specify the distribution's `shape` during model construction."
   ]
  },
  {
   "cell_type": "markdown",
   "metadata": {},
   "source": [
    "### Random variable's shapes and problems with sampling\n",
    "\n",
    "To highlight some of these complications, we have to look at data generative models. Random variables are used to define data generation processes like the following:\n",
    "\n",
    "$$\n",
    "\\beta\\_{G} \\sim \\mathcal{N}(0, 1)\\\\\\\\\\\\\n",
    "\\gamma \\sim \\mathcal{\\Gamma}(10, 10)\\\\\\\\\\\\\n",
    "z\\_{i} \\sim \\mathcal{N}(0, 1)\\\\\\\\\\\\\n",
    "\\beta\\_{i} = \\beta\\_{G} + \\gamma z\\_{i}\\\\\\\\\\\\\n",
    "\\sigma \\sim \\mathcal{\\Gamma}(3, 3)\\\\\\\\\\\\\n",
    "y \\sim \\mathcal{N}\\left(\\vec{X}. \\vec{\\beta}, \\sigma\\right)\n",
    "$$\n",
    "\n",
    "This is a simple hierarchical model usually used for linear regressions with partial pooling. The key pieces of information for end users are: $y$ and $\\vec{X}$. These are the actually observed values. $y$ represents an observed output of the assumed data generation process, and $\\vec{X}$ would be the corresponding input. We assume $\\vec{X}$ is a vector because it can have more than one feature that is used to generate the output observation. In general, we have more than a single observation, in thoses cases $\\vec{y}$ is a vector (or 1D array) and $\\mathbb{X}$ is a matrix (or 2D array, made from vertically stacking many $\\vec{X}$).\n",
    "\n",
    "The rest of the parameters define the unobserved random variables that we will try to infer given the set of observations. $\\sigma$ is the observation noise. $\\vec{\\beta}$ are the regression weights, and they are a summation of two other sets of random variables: $\\beta_{G}$, $\\gamma$ and $\\vec{z}$."
   ]
  },
  {
   "cell_type": "markdown",
   "metadata": {},
   "source": [
    "When we do MCMC, we propose candidate values for the random variables based on the model's `logp`. We use `theano` and our RVs are essentially placeholders or `Variables` whose values are unknown when the model is defined, but are updated during sampling. **The only thing that is fixed during the model's construction is what we will call the distribution's core dimensions, `ndim`**, which is a fancy way of calling the axes defined by `batch_shape` and `event_shape`. MCMC sampling in pymc3 operates on single samples from distributions and only the `logp` shape handling of `ObservedRV`s can bring shape related trouble (like what happened in [this issue](https://github.com/pymc-devs/pymc3/issues/3535) with `Categorical.logp`).\n",
    "\n",
    "On the other hand, when we do forward sampling (i.e. `sample_prior_predictive` and `sample_posterior_predictive`) the same data generation model that was defined only taking into account the core dimensions, has to be used with the extra dimensions given by `sample_shape`. This leads to a whole world of pain which we will illustrate now using only `numpy` to write the data generation model:"
   ]
  },
  {
   "cell_type": "code",
   "execution_count": 17,
   "metadata": {},
   "outputs": [],
   "source": [
    "# This implementation uses the argument size incorrectly\n",
    "def unvectorized_prior_sampler(X=np.arange(3), size=None):\n",
    "    normal = np.random.normal\n",
    "    beta_g = normal(0, 1, size=size)\n",
    "    gamma = np.random.gamma(10, 10, size=size)\n",
    "    z = normal(np.zeros(X.shape[-1]), 1, size=size)\n",
    "    beta = beta_g + gamma * z\n",
    "    sigma = np.random.gamma(3, 3, size=size)\n",
    "    return normal(np.dot(X, beta), sigma, size=size)"
   ]
  },
  {
   "cell_type": "markdown",
   "metadata": {},
   "source": [
    "So lets try out our nice little `unvectorized_prior_sampler` using only the default `size=None`. This means that\n",
    "\n",
    "1. We will be drawing a single sample from each distribution\n",
    "2. Said sample will have the distribution's implicit `shape`\n",
    "3. All mathematical operations will be performed on the resulting `float`s or `ndarray`s that are returned as the distributions samples."
   ]
  },
  {
   "cell_type": "code",
   "execution_count": 19,
   "metadata": {
    "scrolled": false
   },
   "outputs": [
    {
     "data": {
      "image/png": "[encoded data removed]",
      "text/plain": [
       "<Figure size 432x288 with 1 Axes>"
      ]
     },
     "metadata": {
      "needs_background": "light"
     },
     "output_type": "display_data"
    }
   ],
   "source": [
    "from matplotlib import pyplot as plt\n",
    "import seaborn as sns\n",
    "plt.ion()\n",
    "\n",
    "sns.distplot([unvectorized_prior_sampler() for _ in range(5000)]);"
   ]
  },
  {
   "cell_type": "markdown",
   "metadata": {},
   "source": [
    "Nice! Everything works! Now lets try to do the same but taking advantage of `size` to draw multiple values at once and vectorize operations"
   ]
  },
  {
   "cell_type": "code",
   "execution_count": 20,
   "metadata": {},
   "outputs": [
    {
     "ename": "ValueError",
     "evalue": "shape mismatch: objects cannot be broadcast to a single shape",
     "output_type": "error",
     "traceback": [
      "\u001b[0;31m---------------------------------------------------------------------------\u001b[0m",
      "\u001b[0;31mValueError\u001b[0m                                Traceback (most recent call last)",
      "\u001b[0;32m<ipython-input-20-30082f0e1390>\u001b[0m in \u001b[0;36m<module>\u001b[0;34m()\u001b[0m\n\u001b[0;32m----> 1\u001b[0;31m \u001b[0munvectorized_prior_sampler\u001b[0m\u001b[0;34m(\u001b[0m\u001b[0msize\u001b[0m\u001b[0;34m=\u001b[0m\u001b[0;36m5000\u001b[0m\u001b[0;34m)\u001b[0m\u001b[0;34m\u001b[0m\u001b[0;34m\u001b[0m\u001b[0m\n\u001b[0m",
      "\u001b[0;32m<ipython-input-17-2bc805c3fbae>\u001b[0m in \u001b[0;36munvectorized_prior_sampler\u001b[0;34m(X, size)\u001b[0m\n\u001b[1;32m      4\u001b[0m     \u001b[0mbeta_g\u001b[0m \u001b[0;34m=\u001b[0m \u001b[0mnormal\u001b[0m\u001b[0;34m(\u001b[0m\u001b[0;36m0\u001b[0m\u001b[0;34m,\u001b[0m \u001b[0;36m1\u001b[0m\u001b[0;34m,\u001b[0m \u001b[0msize\u001b[0m\u001b[0;34m=\u001b[0m\u001b[0msize\u001b[0m\u001b[0;34m)\u001b[0m\u001b[0;34m\u001b[0m\u001b[0;34m\u001b[0m\u001b[0m\n\u001b[1;32m      5\u001b[0m     \u001b[0mgamma\u001b[0m \u001b[0;34m=\u001b[0m \u001b[0mnp\u001b[0m\u001b[0;34m.\u001b[0m\u001b[0mrandom\u001b[0m\u001b[0;34m.\u001b[0m\u001b[0mgamma\u001b[0m\u001b[0;34m(\u001b[0m\u001b[0;36m10\u001b[0m\u001b[0;34m,\u001b[0m \u001b[0;36m10\u001b[0m\u001b[0;34m,\u001b[0m \u001b[0msize\u001b[0m\u001b[0;34m=\u001b[0m\u001b[0msize\u001b[0m\u001b[0;34m)\u001b[0m\u001b[0;34m\u001b[0m\u001b[0;34m\u001b[0m\u001b[0m\n\u001b[0;32m----> 6\u001b[0;31m     \u001b[0mz\u001b[0m \u001b[0;34m=\u001b[0m \u001b[0mnormal\u001b[0m\u001b[0;34m(\u001b[0m\u001b[0mnp\u001b[0m\u001b[0;34m.\u001b[0m\u001b[0mzeros\u001b[0m\u001b[0;34m(\u001b[0m\u001b[0mX\u001b[0m\u001b[0;34m.\u001b[0m\u001b[0mshape\u001b[0m\u001b[0;34m[\u001b[0m\u001b[0;34m-\u001b[0m\u001b[0;36m1\u001b[0m\u001b[0;34m]\u001b[0m\u001b[0;34m)\u001b[0m\u001b[0;34m,\u001b[0m \u001b[0;36m1\u001b[0m\u001b[0;34m,\u001b[0m \u001b[0msize\u001b[0m\u001b[0;34m=\u001b[0m\u001b[0msize\u001b[0m\u001b[0;34m)\u001b[0m\u001b[0;34m\u001b[0m\u001b[0;34m\u001b[0m\u001b[0m\n\u001b[0m\u001b[1;32m      7\u001b[0m     \u001b[0mbeta\u001b[0m \u001b[0;34m=\u001b[0m \u001b[0mbeta_g\u001b[0m \u001b[0;34m+\u001b[0m \u001b[0mgamma\u001b[0m \u001b[0;34m*\u001b[0m \u001b[0mz\u001b[0m\u001b[0;34m\u001b[0m\u001b[0;34m\u001b[0m\u001b[0m\n\u001b[1;32m      8\u001b[0m     \u001b[0msigma\u001b[0m \u001b[0;34m=\u001b[0m \u001b[0mnp\u001b[0m\u001b[0;34m.\u001b[0m\u001b[0mrandom\u001b[0m\u001b[0;34m.\u001b[0m\u001b[0mgamma\u001b[0m\u001b[0;34m(\u001b[0m\u001b[0;36m3\u001b[0m\u001b[0;34m,\u001b[0m \u001b[0;36m3\u001b[0m\u001b[0;34m,\u001b[0m \u001b[0msize\u001b[0m\u001b[0;34m=\u001b[0m\u001b[0msize\u001b[0m\u001b[0;34m)\u001b[0m\u001b[0;34m\u001b[0m\u001b[0;34m\u001b[0m\u001b[0m\n",
      "\u001b[0;32mmtrand.pyx\u001b[0m in \u001b[0;36mmtrand.RandomState.normal\u001b[0;34m()\u001b[0m\n",
      "\u001b[0;32mmtrand.pyx\u001b[0m in \u001b[0;36mmtrand.cont2_array\u001b[0;34m()\u001b[0m\n",
      "\u001b[0;31mValueError\u001b[0m: shape mismatch: objects cannot be broadcast to a single shape"
     ]
    }
   ],
   "source": [
    "unvectorized_prior_sampler(size=5000)"
   ]
  },
  {
   "cell_type": "markdown",
   "metadata": {},
   "source": [
    "Oh no! **We can't use the same `size` argument for drawing from every distribution, because it doesn't broadcast well with the implicit distribution's shape**.\n",
    "\n",
    "What we want to do is set the `sample_shape` instead, which is agnostic of each distribution's shape, so will try to work around the `distribution_shape`."
   ]
  },
  {
   "cell_type": "code",
   "execution_count": 21,
   "metadata": {},
   "outputs": [],
   "source": [
    "# This implementation uses the argument sample_shape incorrectly\n",
    "def incorrect_vectorized_prior_sampler(X=np.arange(3), sample_shape=None):\n",
    "    normal = np.random.normal\n",
    "    if sample_shape is None:\n",
    "        sample_shape = ()\n",
    "    try:\n",
    "        sample_shape = tuple(sample_shape)\n",
    "    except TypeError:\n",
    "        sample_shape = (sample_shape,)\n",
    "    beta_g = normal(0, 1, size=sample_shape)\n",
    "    gamma = np.random.gamma(10, 10, size=sample_shape)\n",
    "    # We add the distribution's shape at the end of sample_shape\n",
    "    z = normal(np.zeros(X.shape[-1]), 1, size=sample_shape + (X.shape[-1],))\n",
    "    beta = beta_g + gamma * z\n",
    "    sigma = np.random.gamma(3, 3, size=sample_shape)\n",
    "    return normal(np.dot(X, beta), sigma, size=sample_shape)"
   ]
  },
  {
   "cell_type": "code",
   "execution_count": 22,
   "metadata": {},
   "outputs": [
    {
     "ename": "ValueError",
     "evalue": "operands could not be broadcast together with shapes (5000,) (5000,3) ",
     "output_type": "error",
     "traceback": [
      "\u001b[0;31m---------------------------------------------------------------------------\u001b[0m",
      "\u001b[0;31mValueError\u001b[0m                                Traceback (most recent call last)",
      "\u001b[0;32m<ipython-input-22-235899f566bb>\u001b[0m in \u001b[0;36m<module>\u001b[0;34m()\u001b[0m\n\u001b[0;32m----> 1\u001b[0;31m \u001b[0mincorrect_vectorized_prior_sampler\u001b[0m\u001b[0;34m(\u001b[0m\u001b[0msample_shape\u001b[0m\u001b[0;34m=\u001b[0m\u001b[0;36m5000\u001b[0m\u001b[0;34m)\u001b[0m\u001b[0;34m\u001b[0m\u001b[0;34m\u001b[0m\u001b[0m\n\u001b[0m",
      "\u001b[0;32m<ipython-input-21-f4692868adc5>\u001b[0m in \u001b[0;36mincorrect_vectorized_prior_sampler\u001b[0;34m(X, sample_shape)\u001b[0m\n\u001b[1;32m     12\u001b[0m     \u001b[0;31m# We add the distribution's shape at the end of sample_shape\u001b[0m\u001b[0;34m\u001b[0m\u001b[0;34m\u001b[0m\u001b[0;34m\u001b[0m\u001b[0m\n\u001b[1;32m     13\u001b[0m     \u001b[0mz\u001b[0m \u001b[0;34m=\u001b[0m \u001b[0mnormal\u001b[0m\u001b[0;34m(\u001b[0m\u001b[0mnp\u001b[0m\u001b[0;34m.\u001b[0m\u001b[0mzeros\u001b[0m\u001b[0;34m(\u001b[0m\u001b[0mX\u001b[0m\u001b[0;34m.\u001b[0m\u001b[0mshape\u001b[0m\u001b[0;34m[\u001b[0m\u001b[0;34m-\u001b[0m\u001b[0;36m1\u001b[0m\u001b[0;34m]\u001b[0m\u001b[0;34m)\u001b[0m\u001b[0;34m,\u001b[0m \u001b[0;36m1\u001b[0m\u001b[0;34m,\u001b[0m \u001b[0msize\u001b[0m\u001b[0;34m=\u001b[0m\u001b[0msample_shape\u001b[0m \u001b[0;34m+\u001b[0m \u001b[0;34m(\u001b[0m\u001b[0mX\u001b[0m\u001b[0;34m.\u001b[0m\u001b[0mshape\u001b[0m\u001b[0;34m[\u001b[0m\u001b[0;34m-\u001b[0m\u001b[0;36m1\u001b[0m\u001b[0;34m]\u001b[0m\u001b[0;34m,\u001b[0m\u001b[0;34m)\u001b[0m\u001b[0;34m)\u001b[0m\u001b[0;34m\u001b[0m\u001b[0;34m\u001b[0m\u001b[0m\n\u001b[0;32m---> 14\u001b[0;31m     \u001b[0mbeta\u001b[0m \u001b[0;34m=\u001b[0m \u001b[0mbeta_g\u001b[0m \u001b[0;34m+\u001b[0m \u001b[0mgamma\u001b[0m \u001b[0;34m*\u001b[0m \u001b[0mz\u001b[0m\u001b[0;34m\u001b[0m\u001b[0;34m\u001b[0m\u001b[0m\n\u001b[0m\u001b[1;32m     15\u001b[0m     \u001b[0msigma\u001b[0m \u001b[0;34m=\u001b[0m \u001b[0mnp\u001b[0m\u001b[0;34m.\u001b[0m\u001b[0mrandom\u001b[0m\u001b[0;34m.\u001b[0m\u001b[0mgamma\u001b[0m\u001b[0;34m(\u001b[0m\u001b[0;36m3\u001b[0m\u001b[0;34m,\u001b[0m \u001b[0;36m3\u001b[0m\u001b[0;34m,\u001b[0m \u001b[0msize\u001b[0m\u001b[0;34m=\u001b[0m\u001b[0msample_shape\u001b[0m\u001b[0;34m)\u001b[0m\u001b[0;34m\u001b[0m\u001b[0;34m\u001b[0m\u001b[0m\n\u001b[1;32m     16\u001b[0m     \u001b[0;32mreturn\u001b[0m \u001b[0mnormal\u001b[0m\u001b[0;34m(\u001b[0m\u001b[0mnp\u001b[0m\u001b[0;34m.\u001b[0m\u001b[0mdot\u001b[0m\u001b[0;34m(\u001b[0m\u001b[0mX\u001b[0m\u001b[0;34m,\u001b[0m \u001b[0mbeta\u001b[0m\u001b[0;34m)\u001b[0m\u001b[0;34m,\u001b[0m \u001b[0msigma\u001b[0m\u001b[0;34m,\u001b[0m \u001b[0msize\u001b[0m\u001b[0;34m=\u001b[0m\u001b[0msample_shape\u001b[0m\u001b[0;34m)\u001b[0m\u001b[0;34m\u001b[0m\u001b[0;34m\u001b[0m\u001b[0m\n",
      "\u001b[0;31mValueError\u001b[0m: operands could not be broadcast together with shapes (5000,) (5000,3) "
     ]
    }
   ],
   "source": [
    "incorrect_vectorized_prior_sampler(sample_shape=5000)"
   ]
  },
  {
   "cell_type": "markdown",
   "metadata": {},
   "source": [
    "Still not working! Lets zoom-in to what is causing the error. We see that we are summing `beta_g`'s samples with the product of `gamma` and `z`'s samples. Let's look at the shapes of the samples:\n",
    "\n",
    "* `beta_g.shape == sample_shape`\n",
    "* `gamma.shape == sample_shape`\n",
    "* `z.shape == sample_shape + (X.shape[-1],)`\n",
    "\n",
    "So in our particular examples these are shaped as:\n",
    "\n",
    "* `beta_g.shape == (5000,)`\n",
    "* `gamma.shape == (5000,)`\n",
    "* `z.shape == (5000, 3)`\n",
    "\n",
    "So it makes sense that the product of `gamma` with `z` does not broadcast. You could ask yourself, **why did this work at all when we call this function with `sample_shape=None`?** The answer is that a single sample from each distribution (calling with `sample_shape=()`), has the distribution's implicit `shape`, and those **DO BROADCAST CORRECTLY**:\n",
    "\n",
    "* `beta_g.shape == ()`\n",
    "* `gamma.shape == ()`\n",
    "* `z.shape == (3,)`"
   ]
  },
  {
   "cell_type": "markdown",
   "metadata": {},
   "source": [
    "To make our model's data generation process fully vectorized we need two things:\n",
    "\n",
    "1. To ensure that all the mathematical operations (sums, products, dots) and all the conditional dependences between variables (like $y$ and $\\vec{\\beta}$) work on the distribution's core dimensions (`batch_shape + event_shape`). We choose this name to stick with numpy's glossary of generalized universal functions.\n",
    "2. That the mathematical operations be vectorized on the extra dimensions added by the requested `sample_shape` (something like what is done with [numpy's generic ufuncs](https://docs.scipy.org/doc/numpy/reference/c-api.generalized-ufuncs.html))."
   ]
  },
  {
   "cell_type": "code",
   "execution_count": 23,
   "metadata": {},
   "outputs": [],
   "source": [
    "# Overly expressive but _almost_ fully vectorized implementation\n",
    "def vectorized_prior_sampler(X=np.arange(3), sample_shape=None):\n",
    "    normal = np.random.normal\n",
    "    if sample_shape is None:\n",
    "        sample_shape = ()\n",
    "    try:\n",
    "        sample_shape = tuple(sample_shape)\n",
    "    except TypeError:\n",
    "        sample_shape = (sample_shape,)\n",
    "    beta_g = normal(0, 1, size=sample_shape)\n",
    "    gamma = np.random.gamma(10, 10, size=sample_shape)\n",
    "    # We add the distribution's shape at the end of sample_shape\n",
    "    z = normal(np.zeros(X.shape[-1]), 1, size=sample_shape + (X.shape[-1],))\n",
    "    beta = beta_g[..., None] + gamma[..., None] * z\n",
    "    sigma = np.random.gamma(3, 3, size=sample_shape)\n",
    "    return normal(np.einsum(\"...i,...i\", X, beta), sigma, size=sample_shape)"
   ]
  },
  {
   "cell_type": "code",
   "execution_count": 24,
   "metadata": {},
   "outputs": [
    {
     "data": {
      "image/png": "[encoded data removed]",
      "text/plain": [
       "<Figure size 432x288 with 1 Axes>"
      ]
     },
     "metadata": {
      "needs_background": "light"
     },
     "output_type": "display_data"
    }
   ],
   "source": [
    "sns.distplot(vectorized_prior_sampler(sample_shape=5000));"
   ]
  },
  {
   "cell_type": "markdown",
   "metadata": {},
   "source": [
    "Things can still go horribly wrong if we pass a stack of multiple `X` vectors. This is a big deal because it happens when we set more than a single observed `X` and `y`."
   ]
  },
  {
   "cell_type": "code",
   "execution_count": 25,
   "metadata": {},
   "outputs": [
    {
     "ename": "ValueError",
     "evalue": "operands could not be broadcast together with remapped shapes [original->remapped]: (10,3)->(10,3) (5000,3)->(5000,3) ",
     "output_type": "error",
     "traceback": [
      "\u001b[0;31m---------------------------------------------------------------------------\u001b[0m",
      "\u001b[0;31mValueError\u001b[0m                                Traceback (most recent call last)",
      "\u001b[0;32m<ipython-input-25-f754aa0fb06e>\u001b[0m in \u001b[0;36m<module>\u001b[0;34m()\u001b[0m\n\u001b[1;32m      1\u001b[0m \u001b[0mX\u001b[0m \u001b[0;34m=\u001b[0m \u001b[0mnp\u001b[0m\u001b[0;34m.\u001b[0m\u001b[0mtile\u001b[0m\u001b[0;34m(\u001b[0m\u001b[0mnp\u001b[0m\u001b[0;34m.\u001b[0m\u001b[0marange\u001b[0m\u001b[0;34m(\u001b[0m\u001b[0;36m3\u001b[0m\u001b[0;34m)\u001b[0m\u001b[0;34m.\u001b[0m\u001b[0mreshape\u001b[0m\u001b[0;34m(\u001b[0m\u001b[0;34m(\u001b[0m\u001b[0;36m1\u001b[0m\u001b[0;34m,\u001b[0m \u001b[0;36m3\u001b[0m\u001b[0;34m)\u001b[0m\u001b[0;34m)\u001b[0m\u001b[0;34m,\u001b[0m \u001b[0;34m(\u001b[0m\u001b[0;36m10\u001b[0m\u001b[0;34m,\u001b[0m \u001b[0;36m1\u001b[0m\u001b[0;34m)\u001b[0m\u001b[0;34m)\u001b[0m\u001b[0;34m\u001b[0m\u001b[0;34m\u001b[0m\u001b[0m\n\u001b[0;32m----> 2\u001b[0;31m \u001b[0mvectorized_prior_sampler\u001b[0m\u001b[0;34m(\u001b[0m\u001b[0mX\u001b[0m\u001b[0;34m=\u001b[0m\u001b[0mX\u001b[0m\u001b[0;34m,\u001b[0m \u001b[0msample_shape\u001b[0m\u001b[0;34m=\u001b[0m\u001b[0;36m5000\u001b[0m\u001b[0;34m)\u001b[0m\u001b[0;34m\u001b[0m\u001b[0;34m\u001b[0m\u001b[0m\n\u001b[0m",
      "\u001b[0;32m<ipython-input-23-5506fae2796b>\u001b[0m in \u001b[0;36mvectorized_prior_sampler\u001b[0;34m(X, sample_shape)\u001b[0m\n\u001b[1;32m     14\u001b[0m     \u001b[0mbeta\u001b[0m \u001b[0;34m=\u001b[0m \u001b[0mbeta_g\u001b[0m\u001b[0;34m[\u001b[0m\u001b[0;34m...\u001b[0m\u001b[0;34m,\u001b[0m \u001b[0;32mNone\u001b[0m\u001b[0;34m]\u001b[0m \u001b[0;34m+\u001b[0m \u001b[0mgamma\u001b[0m\u001b[0;34m[\u001b[0m\u001b[0;34m...\u001b[0m\u001b[0;34m,\u001b[0m \u001b[0;32mNone\u001b[0m\u001b[0;34m]\u001b[0m \u001b[0;34m*\u001b[0m \u001b[0mz\u001b[0m\u001b[0;34m\u001b[0m\u001b[0;34m\u001b[0m\u001b[0m\n\u001b[1;32m     15\u001b[0m     \u001b[0msigma\u001b[0m \u001b[0;34m=\u001b[0m \u001b[0mnp\u001b[0m\u001b[0;34m.\u001b[0m\u001b[0mrandom\u001b[0m\u001b[0;34m.\u001b[0m\u001b[0mgamma\u001b[0m\u001b[0;34m(\u001b[0m\u001b[0;36m3\u001b[0m\u001b[0;34m,\u001b[0m \u001b[0;36m3\u001b[0m\u001b[0;34m,\u001b[0m \u001b[0msize\u001b[0m\u001b[0;34m=\u001b[0m\u001b[0msample_shape\u001b[0m\u001b[0;34m)\u001b[0m\u001b[0;34m\u001b[0m\u001b[0;34m\u001b[0m\u001b[0m\n\u001b[0;32m---> 16\u001b[0;31m     \u001b[0;32mreturn\u001b[0m \u001b[0mnormal\u001b[0m\u001b[0;34m(\u001b[0m\u001b[0mnp\u001b[0m\u001b[0;34m.\u001b[0m\u001b[0meinsum\u001b[0m\u001b[0;34m(\u001b[0m\u001b[0;34m\"...i,...i\"\u001b[0m\u001b[0;34m,\u001b[0m \u001b[0mX\u001b[0m\u001b[0;34m,\u001b[0m \u001b[0mbeta\u001b[0m\u001b[0;34m)\u001b[0m\u001b[0;34m,\u001b[0m \u001b[0msigma\u001b[0m\u001b[0;34m,\u001b[0m \u001b[0msize\u001b[0m\u001b[0;34m=\u001b[0m\u001b[0msample_shape\u001b[0m\u001b[0;34m)\u001b[0m\u001b[0;34m\u001b[0m\u001b[0;34m\u001b[0m\u001b[0m\n\u001b[0m",
      "\u001b[0;32m~/anaconda3/lib/python3.6/site-packages/numpy/core/einsumfunc.py\u001b[0m in \u001b[0;36meinsum\u001b[0;34m(*operands, **kwargs)\u001b[0m\n\u001b[1;32m   1067\u001b[0m     \u001b[0;31m# If no optimization, run pure einsum\u001b[0m\u001b[0;34m\u001b[0m\u001b[0;34m\u001b[0m\u001b[0;34m\u001b[0m\u001b[0m\n\u001b[1;32m   1068\u001b[0m     \u001b[0;32mif\u001b[0m \u001b[0moptimize_arg\u001b[0m \u001b[0;32mis\u001b[0m \u001b[0;32mFalse\u001b[0m\u001b[0;34m:\u001b[0m\u001b[0;34m\u001b[0m\u001b[0;34m\u001b[0m\u001b[0m\n\u001b[0;32m-> 1069\u001b[0;31m         \u001b[0;32mreturn\u001b[0m \u001b[0mc_einsum\u001b[0m\u001b[0;34m(\u001b[0m\u001b[0;34m*\u001b[0m\u001b[0moperands\u001b[0m\u001b[0;34m,\u001b[0m \u001b[0;34m**\u001b[0m\u001b[0mkwargs\u001b[0m\u001b[0;34m)\u001b[0m\u001b[0;34m\u001b[0m\u001b[0;34m\u001b[0m\u001b[0m\n\u001b[0m\u001b[1;32m   1070\u001b[0m \u001b[0;34m\u001b[0m\u001b[0m\n\u001b[1;32m   1071\u001b[0m     \u001b[0mvalid_einsum_kwargs\u001b[0m \u001b[0;34m=\u001b[0m \u001b[0;34m[\u001b[0m\u001b[0;34m'out'\u001b[0m\u001b[0;34m,\u001b[0m \u001b[0;34m'dtype'\u001b[0m\u001b[0;34m,\u001b[0m \u001b[0;34m'order'\u001b[0m\u001b[0;34m,\u001b[0m \u001b[0;34m'casting'\u001b[0m\u001b[0;34m]\u001b[0m\u001b[0;34m\u001b[0m\u001b[0;34m\u001b[0m\u001b[0m\n",
      "\u001b[0;31mValueError\u001b[0m: operands could not be broadcast together with remapped shapes [original->remapped]: (10,3)->(10,3) (5000,3)->(5000,3) "
     ]
    }
   ],
   "source": [
    "X = np.tile(np.arange(3).reshape((1, 3)), (10, 1))\n",
    "vectorized_prior_sampler(X=X, sample_shape=5000)"
   ]
  },
  {
   "cell_type": "markdown",
   "metadata": {},
   "source": [
    "To solve this, we need to make our `einsum` aware of the extra observation dimensions in `X`, and then ensure that the result broadcasts with samples taken from `sigma`."
   ]
  },
  {
   "cell_type": "code",
   "execution_count": 26,
   "metadata": {},
   "outputs": [
    {
     "data": {
      "image/png": "[encoded data removed]",
      "text/plain": [
       "<Figure size 432x288 with 1 Axes>"
      ]
     },
     "metadata": {
      "needs_background": "light"
     },
     "output_type": "display_data"
    }
   ],
   "source": [
    "# fully vectorized implementation\n",
    "def prior_sampler(X=np.arange(3), sample_shape=None):\n",
    "    normal = np.random.normal\n",
    "    if sample_shape is None:\n",
    "        sample_shape = ()\n",
    "    try:\n",
    "        sample_shape = tuple(sample_shape)\n",
    "    except TypeError:\n",
    "        sample_shape = (sample_shape,)\n",
    "    beta_g = normal(0, 1, size=sample_shape)\n",
    "    gamma = np.random.gamma(10, 10, size=sample_shape)\n",
    "    # We add the distribution's shape at the end of sample_shape\n",
    "    z = normal(np.zeros(X.shape[-1]), 1, size=sample_shape + (X.shape[-1],))\n",
    "    beta = beta_g[..., None] + gamma[..., None] * z\n",
    "    sigma = np.random.gamma(3, 3, size=sample_shape)\n",
    "    if X.ndim == 1:\n",
    "        signature = \"...i,...i\"\n",
    "    else:\n",
    "        signature = \"...{0}i,...i->...{0}\".format(\"\".join([chr(106 + dim) for dim in range(X.ndim - 1)]))\n",
    "        sigma = np.reshape(sigma, sigma.shape + (1,) * (X.ndim - 1))\n",
    "    return normal(np.einsum(signature, X, beta), sigma, size=sample_shape + (X.shape[:-1]))\n",
    "\n",
    "X = np.tile(np.arange(3).reshape((1, 3)), (10, 1))\n",
    "prior = prior_sampler(X=X, sample_shape=5000)\n",
    "\n",
    "colors = [plt.get_cmap(\"rainbow\")(x) for x in np.linspace(0, 1, len(X))]\n",
    "plt_x = np.linspace(\n",
    "    np.floor(np.min(prior) / 1) * 1,\n",
    "    np.ceil(np.max(prior) / 1) * 1,\n",
    "    1000\n",
    ")\n",
    "for offset, (p, color) in enumerate(zip(prior.T, colors)):\n",
    "    plt_y = stats.gaussian_kde(p)(plt_x)\n",
    "    plt.plot(plt_x - offset * 100, plt_y + offset * 0.001, color=color)\n",
    "plt.axis(\"off\");"
   ]
  },
  {
   "cell_type": "markdown",
   "metadata": {},
   "source": [
    "#### Summary\n",
    "\n",
    "All of this data generation process using raw `numpy` was intended to showcase that:\n",
    "\n",
    "* When you write down a model and only think about the distribution's core dimensions, this will in general make it difficult to generate data (sample the prior or posterior predictive) in a vectorized fashion.\n",
    "* To ensure proper vectorization, the mathematical operations that act on RVs **must work on the core dimensions and be vectorized on the extra axes**.\n",
    "* The RVs that are themselves parameters of other distributions downstream will have an extra `sample_shape` axes when generating data. This means that **the distribution parameters must be broadcastable excluding the `sample_shape` parts**.\n",
    "\n",
    "pymc3 does most of this for you in `sample_prior_predictive` and `sample_posterior_predictive`. When we write down a model in pymc3, we can easily identify the distribution core dimensions. This allows us to vectorize the mathematical operations using `numpy.vectorize` with an adequate signature. Furthermore, the distribution parameters are broadcasted ignoring the `sample_shape` part thanks to the utilities defined in the [`pymc3.distributions.shape_utils` module](https://docs.pymc.io/api/shape_utils.html). **However, at the moment this broadcasting works for scalar distributions only, the multivariate distributions are still not fully vectorized.**"
   ]
  },
  {
   "cell_type": "markdown",
   "metadata": {},
   "source": [
    "### PyMC3 shape model construction\n",
    "\n",
    "Before looking at the equivalent data generation model from above but written in pymc3, I'll briefly remind you of three major things that one should always do with shapes in pymc3 models:\n",
    "\n",
    "1. When we create random variables inside a model, their `shape` cannot be implicitly inferred from the distribution parameters. This means that if we want to have multidimensional or batches of distributions **we need to specify the desired `shape` during the distribution's instantiation**.\n",
    "2. When we create a random variable and specify the `shape`, we are not setting the random variable's `shape`, **we are setting the distribution's `shape` and the distribution's core dimensions**.\n",
    "3. When a random variable is given observations, **the `ObservedRV`'s `shape`** (not the underlying distribution's shape) **is determined by the `observed` argument.** At the moment, there are no checks in place between the `ObservedRV` and the underlying distribution's shapes, but in the near future, an error will be raised if the `ObservedRV`'s shape is not consistent with a sample, with a given `sample_shape`, drawn from the underlying distribution.\n",
    "\n",
    "Handling observations is really important in pymc3, so I'll stop here a bit because there are a lot of ambiguous things revolving around `shapes`. Essentially `ObservedRV`s have an `observed` attribute that represent the data that they have observed. This data should have a `shape` that looks like `sample_shape + distribution_shape`. The distribution's `shape` should always be provided, or it will be assumed to represent a scalar RV (`distribution_shape=()` and hence zero core dimensions). When we draw samples from the posterior predictive distribution, we let the `ObservedRV`s `shape` be treated as the distribution's `shape`. When we draw samples from the prior predictive distribution, we want to ignore the `ObservedRV`'s `shape` and just work with the underlying distribution's `shape` (this is currently not working due to an [old open issue](https://github.com/pymc-devs/pymc3/issues/1094))."
   ]
  },
  {
   "cell_type": "markdown",
   "metadata": {},
   "source": [
    "Now lets define our model in pymc3"
   ]
  },
  {
   "cell_type": "code",
   "execution_count": 27,
   "metadata": {},
   "outputs": [
    {
     "name": "stderr",
     "output_type": "stream",
     "text": [
      "/home/lpaz/anaconda3/lib/python3.6/site-packages/h5py/__init__.py:36: FutureWarning: Conversion of the second argument of issubdtype from `float` to `np.floating` is deprecated. In future, it will be treated as `np.float64 == np.dtype(float).type`.\n",
      "  from ._conv import register_converters as _register_converters\n"
     ]
    },
    {
     "name": "stdout",
     "output_type": "stream",
     "text": [
      "{'sigma': array(0.86392362), 'z': array([ 0.58161754, -0.92677227,  0.60365752]), 'gamma': array(0.90931996), 'sigma_log__': -0.1462709159678767, 'beta_g': array(-1.14124179), 'gamma_log__': -0.09505825242743682}\n"
     ]
    },
    {
     "name": "stderr",
     "output_type": "stream",
     "text": [
      "Auto-assigning NUTS sampler...\n",
      "Initializing NUTS using jitter+adapt_diag...\n",
      "Multiprocess sampling (2 chains in 2 jobs)\n",
      "NUTS: [sigma, z, gamma, beta_g]\n",
      "Sampling 2 chains, 0 divergences: 100%|██████████| 2000/2000 [00:16<00:00, 124.98draws/s]\n",
      "The number of effective samples is smaller than 25% for some parameters.\n"
     ]
    },
    {
     "data": {
      "image/png": "[encoded data removed]",
      "text/plain": [
       "<Figure size 1490.4x662.4 with 6 Axes>"
      ]
     },
     "metadata": {
      "needs_background": "light"
     },
     "output_type": "display_data"
    }
   ],
   "source": [
    "import numpy as np\n",
    "import theano\n",
    "from theano import tensor as tt\n",
    "import pymc3 as pm\n",
    "\n",
    "\n",
    "# Model definition is encapsulated to easily use with or without observations\n",
    "def model_factory(X=np.arange(3), y=None):\n",
    "    with pm.Model() as model:\n",
    "        beta_g = pm.Normal(\"beta_g\", mu=0, sigma=1)\n",
    "        gamma = pm.Gamma(\"gamma\", alpha=10, beta=10)\n",
    "        z = pm.Normal(\"z\", mu=0, sigma=1, shape=X.shape[1])\n",
    "        sigma = pm.Gamma(\"sigma\", alpha=3, beta=3)\n",
    "        beta = beta_g + gamma * z\n",
    "        y = pm.Normal(\n",
    "            \"y\",\n",
    "            mu=tt.dot(X, beta),\n",
    "            sigma=sigma,\n",
    "            shape=X.shape[:-1],\n",
    "            observed=y\n",
    "        )\n",
    "    return model\n",
    "\n",
    "# Data generation\n",
    "X = np.random.randn(400, 3)\n",
    "X[:, 0] = 1.\n",
    "with model_factory(X):\n",
    "    prior = pm.sample_prior_predictive(samples=1)\n",
    "y = prior.pop(\"y\")\n",
    "true_parameters = prior\n",
    "print(true_parameters)\n",
    "\n",
    "# Inference\n",
    "with model_factory(X, y) as model:\n",
    "    trace = pm.sample()\n",
    "    pm.plot_posterior(trace)"
   ]
  },
  {
   "cell_type": "markdown",
   "metadata": {},
   "source": [
    "The resulting trace seems mostly fine, the posterior densities are around where they should be, and the model seems to have converged well enough (I don't show the checks here to avoid clobbering the post). Lets just pay attention to the `shape` parameters that I passed along in the model's definition.\n",
    "\n",
    "* I wrote a factory function to be able to easily create a model I'll use without observations to use `sample_prior_predictive` to generate a set of observations.\n",
    "* Then, I create a second model passing the observed data to do inference.\n",
    "* All the distributions that are not scalar have a specified `shape`, including the observed `y`. This is because, the distribution `shape` cannot be inferred properly from the distribution parameters."
   ]
  },
  {
   "cell_type": "markdown",
   "metadata": {},
   "source": [
    "We can view some of the **differences between RV and distribution shapes** with this model:"
   ]
  },
  {
   "cell_type": "code",
   "execution_count": 28,
   "metadata": {},
   "outputs": [],
   "source": [
    "def rv_shape_info(model, rv):\n",
    "    try:\n",
    "        shape = \"is a symbolic theano expression that evaluates to {}\".format(rv.shape.eval())\n",
    "    except:\n",
    "        shape = \"is a symbolic theano expression, unknown until runtime\"\n",
    "    return (\n",
    "        \"RV name = {}.\\n\"\n",
    "        \"Type of RV = {}.\\n\"\n",
    "        \"RV shape {}.\\n\"\n",
    "        \"Distribution shape = {}\\n\"\n",
    "        \"logp shape = {}.\\n\".\n",
    "        format(\n",
    "            rv.name,\n",
    "            type(rv),\n",
    "            shape,\n",
    "            rv.distribution.shape,\n",
    "            rv.logp_elemwise(model.test_point).shape\n",
    "        )\n",
    "    )"
   ]
  },
  {
   "cell_type": "code",
   "execution_count": 29,
   "metadata": {},
   "outputs": [
    {
     "name": "stdout",
     "output_type": "stream",
     "text": [
      "RV name = beta_g.\n",
      "Type of RV = <class 'pymc3.model.FreeRV'>.\n",
      "RV shape is a symbolic theano expression, unknown until runtime.\n",
      "Distribution shape = []\n",
      "logp shape = ().\n",
      "\n"
     ]
    }
   ],
   "source": [
    "beta_g = model.beta_g\n",
    "print(rv_shape_info(model, beta_g))"
   ]
  },
  {
   "cell_type": "code",
   "execution_count": 30,
   "metadata": {},
   "outputs": [
    {
     "name": "stdout",
     "output_type": "stream",
     "text": [
      "RV name = z.\n",
      "Type of RV = <class 'pymc3.model.FreeRV'>.\n",
      "RV shape is a symbolic theano expression, unknown until runtime.\n",
      "Distribution shape = [3]\n",
      "logp shape = (3,).\n",
      "\n"
     ]
    }
   ],
   "source": [
    "z = model.z\n",
    "print(rv_shape_info(model, z))"
   ]
  },
  {
   "cell_type": "code",
   "execution_count": 31,
   "metadata": {},
   "outputs": [
    {
     "name": "stdout",
     "output_type": "stream",
     "text": [
      "RV name = y.\n",
      "Type of RV = <class 'pymc3.model.ObservedRV'>.\n",
      "RV shape is a symbolic theano expression that evaluates to [400].\n",
      "Distribution shape = [400]\n",
      "logp shape = (400,).\n",
      "\n"
     ]
    }
   ],
   "source": [
    "y = model.y\n",
    "print(rv_shape_info(model, y))"
   ]
  },
  {
   "cell_type": "markdown",
   "metadata": {},
   "source": [
    "### Shape handling in `logp`\n",
    "\n",
    "You may have noticed that I printed something I called `logp shape`. Lets look at what that is. Each `Distribution` has a `logp` method with the following signature:\n",
    "\n",
    "\n",
    "```python\n",
    "...\n",
    "def logp(self, value):\n",
    "    ...\n",
    "```\n",
    "\n",
    "It takes an input `value` and returns a `theano` expression that can later be compiled to compute the logarithm of the probability density function of the distribution, conditioned on the `value` input. When an RV is instantiated, the distribution's `logp` is called with one of two possible inputs:\n",
    "\n",
    "1. If no `observed` is provided, `logp` is called passing the RV as the `value` argument\n",
    "2. If `observed` is provided, `logp` is called passing `observed` as the `value` argument\n",
    "\n",
    "Keep in mind that this simply returns a `theano.tensor`, called `logp_elemwiset`, so it still has no value, and hence no shape to check. pymc3 later provides the RVs with two convenience methods to compute `logp` numerical values by compiling the returned `theano.tensor` into a function. The first is the widely known `rv.logp` method, which computes the sum of the `logp_elemwiset` on a given point input. The second, less known method, is `rv.logp_elemwise`, which simply returns the numerical output of `logp_elemwiset` on a given point input. **This means that we can use `rv.logp_elemwise` to check how a given distribution handles the logp's output `shape`**"
   ]
  },
  {
   "cell_type": "markdown",
   "metadata": {},
   "source": [
    "If you recall the discussion on `event_shape` and `batch_shape`, we can compare the `logp`s of a batch of normals versus a multivariate normal on a given set of observations"
   ]
  },
  {
   "cell_type": "code",
   "execution_count": 32,
   "metadata": {},
   "outputs": [
    {
     "name": "stdout",
     "output_type": "stream",
     "text": [
      "Shape of draw from a batch of normals        = (4, 3)\n",
      "Shape of draw from an MvNormal               = (4, 3)\n",
      "Shape of logp output from a batch of normals = (4, 3)\n",
      "Shape of logp output from an MvNormal        = (4,)\n",
      "Total logp output from a batch of normals    = -22.535408832791916\n",
      "Total logp output from an MvNormal           = -22.53540883279192\n"
     ]
    }
   ],
   "source": [
    "def model_factory(batch_shape, event_shape, batch_obs=None, event_obs=None):\n",
    "    with pm.Model() as model:\n",
    "        batch = pm.Normal(\n",
    "            \"batch\",\n",
    "            mu=0,\n",
    "            sigma=1,\n",
    "            shape=batch_shape,\n",
    "            observed=batch_obs,\n",
    "        )\n",
    "        event = pm.MvNormal(\n",
    "            \"event\",\n",
    "            mu=np.zeros(event_shape),\n",
    "            cov=np.diag(np.ones(event_shape)),\n",
    "            shape=event_shape,\n",
    "            observed=event_obs,\n",
    "        )\n",
    "    return model\n",
    "\n",
    "batch_shape = (3,)\n",
    "event_shape = (3,)\n",
    "sample_shape = (4,)\n",
    "# We generate data to later be used as observations\n",
    "test_model = model_factory(batch_shape, event_shape)\n",
    "b = test_model.batch.random(size=sample_shape)\n",
    "e = test_model.event.random(size=sample_shape)\n",
    "\n",
    "# We create the model passing observations to the RVs so that we can compute logp\n",
    "test_model = model_factory(batch_shape, event_shape, batch_obs=b, event_obs=b)\n",
    "point = {\"batch\": b, \"event\": e}\n",
    "blp = test_model.batch.logp_elemwise(point)\n",
    "elp = test_model.event.logp_elemwise(point)\n",
    "\n",
    "print(\"Shape of draw from a batch of normals        = {}\".format(b.shape))\n",
    "print(\"Shape of draw from an MvNormal               = {}\".format(e.shape))\n",
    "print(\"Shape of logp output from a batch of normals = {}\".format(blp.shape))\n",
    "print(\"Shape of logp output from an MvNormal        = {}\".format(elp.shape))\n",
    "print(\"Total logp output from a batch of normals    = {}\".format(np.sum(blp)))\n",
    "print(\"Total logp output from an MvNormal           = {}\".format(np.sum(elp)))"
   ]
  },
  {
   "cell_type": "markdown",
   "metadata": {},
   "source": [
    "The previous example highlights the following:\n",
    "\n",
    "* `event_shape` and `batch_shape` are implicit to a distribution, and only accessible through a single `shape` argument.\n",
    "* The `logp` computations distinguish between the `event_shape` and `batch_shape` of distributions, but drawing samples from distributions does not."
   ]
  },
  {
   "cell_type": "markdown",
   "metadata": {},
   "source": [
    "### Posterior predictive sampling\n",
    "\n",
    "We can now draw samples from the posterior predictive distribution and check the output's shape. What we do at the moment is:\n",
    "\n",
    "* We iterate through the points in the `trace` one at a time. This means that the RV values provided will only have their core dimensions. This makes forward sampling safer but slower.\n",
    "* We use the `ObservedRV`'s `shape` as the `distribution_shape`, so all samples should have `shape=(number_of_points_in_trace,) + observedRV.shape.eval()`."
   ]
  },
  {
   "cell_type": "code",
   "execution_count": 33,
   "metadata": {},
   "outputs": [
    {
     "name": "stdout",
     "output_type": "stream",
     "text": [
      "Total number of points in trace = 1000\n"
     ]
    }
   ],
   "source": [
    "print(\"Total number of points in trace = {}\".format(len([p for p in trace.points()])))"
   ]
  },
  {
   "cell_type": "code",
   "execution_count": 34,
   "metadata": {},
   "outputs": [
    {
     "name": "stderr",
     "output_type": "stream",
     "text": [
      "100%|██████████| 1000/1000 [00:01<00:00, 829.93it/s]\n"
     ]
    },
    {
     "data": {
      "text/plain": [
       "(1000, 400)"
      ]
     },
     "execution_count": 34,
     "metadata": {},
     "output_type": "execute_result"
    }
   ],
   "source": [
    "with model:\n",
    "    ppc = pm.sample_posterior_predictive(trace)\n",
    "ppc[\"y\"].shape"
   ]
  },
  {
   "cell_type": "markdown",
   "metadata": {},
   "source": [
    "To better highlight the `shape` difference in sampling from an `ObservedRV`s prior distribution and its posterior predictive we'll use the following model:"
   ]
  },
  {
   "cell_type": "code",
   "execution_count": 35,
   "metadata": {},
   "outputs": [
    {
     "name": "stderr",
     "output_type": "stream",
     "text": [
      "Auto-assigning NUTS sampler...\n",
      "Initializing NUTS using jitter+adapt_diag...\n",
      "Multiprocess sampling (2 chains in 2 jobs)\n",
      "NUTS: [mu]\n",
      "Sampling 2 chains, 0 divergences: 100%|██████████| 2000/2000 [00:00<00:00, 2665.14draws/s]\n",
      "/home/lpaz/repos/pymc3/pymc3/sampling.py:1109: UserWarning: samples parameter is smaller than nchains times ndraws, some draws and/or chains may not be represented in the returned posterior predictive sample\n",
      "  warnings.warn(\"samples parameter is smaller than nchains times ndraws, some draws \"\n",
      "100%|██████████| 100/100 [00:00<00:00, 2240.26it/s]"
     ]
    },
    {
     "name": "stdout",
     "output_type": "stream",
     "text": [
      "Shape of samples drawn from the prior distribution = (100, 3)\n",
      "Shape of samples drawn from the posterior predictive = (100, 10, 3)\n"
     ]
    },
    {
     "name": "stderr",
     "output_type": "stream",
     "text": [
      "\n"
     ]
    }
   ],
   "source": [
    "with pm.Model() as model:\n",
    "    mu = pm.Normal(\"mu\", 0, 1)\n",
    "    obs = pm.Normal(\"obs\", mu, 1, shape=(3,), observed=np.random.randn(10, 3) + 1)\n",
    "    prior = obs.distribution.random(size=100)\n",
    "    trace = pm.sample()\n",
    "    ppc = pm.sample_posterior_predictive(trace, samples=100)\n",
    "print(\"Shape of samples drawn from the prior distribution = {}\".format(prior.shape))\n",
    "print(\"Shape of samples drawn from the posterior predictive = {}\".format(ppc[\"obs\"].shape))"
   ]
  }
 ],
 "metadata": {
  "hugo": {
   "author": "lucianopaz",
   "caption": "",
   "categories": "- ppl",
   "draft": "false",
   "featured": "true",
   "image": {
    "caption": "\"_Lasciate ogni speranza, voi che entrate qui_ ”</br>Allegedly Dante's words when he wrote about the many dimensions of shape hell",
    "placement": "1",
    "projects": "[\"pymc3\"]"
   },
   "summary": "Tutorial on how pymc3 deals with shape",
   "tags": "- pymc - ppl",
   "title": "PyMC3 shape handling (Part 1)"
  },
  "kernelspec": {
   "display_name": "Python 3",
   "language": "python",
   "name": "python3"
  },
  "language_info": {
   "codemirror_mode": {
    "name": "ipython",
    "version": 3
   },
   "file_extension": ".py",
   "mimetype": "text/x-python",
   "name": "python",
   "nbconvert_exporter": "python",
   "pygments_lexer": "ipython3",
   "version": "3.6.8"
  }
 },
 "nbformat": 4,
 "nbformat_minor": 2
}
